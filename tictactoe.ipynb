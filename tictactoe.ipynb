{
 "cells": [
  {
   "cell_type": "markdown",
   "metadata": {},
   "source": [
    "# Rules\n",
    "RULES:  The aim of tic tac toe is to get three in a row. The game requires two players who are either *'x' or 'o'*.\n",
    "\n",
    "   # Plan # \n",
    "## Variable & Constants ##\n",
    "\n",
    "# Varieable\n",
    "- There will be a winner and loser or drawn\n",
    "- Where the x/o is placed\n",
    "- board[3][3], \n",
    "- winner, a PlayerType. Initially, winner is set to PNONE. When someone wins, winner is set to the character of the winner.\n",
    "- x_turn, a boolean. x_turn is true if it is X's turn to play, and false if it is O's turn to play.\n",
    "- move_count, an integer. At first, move_count is 0. Every time a player makes a move, move_count increases by 1.\n",
    "- last_move\n",
    "# Constants \n",
    "Player \"x/o \" has won/lost\n",
    "Player \" x/o\" behinds \n",
    "\n",
    "# Algorithm \n",
    "\n",
    "# Test plan \n",
    "\n",
    "# Develop \n",
    "\n",
    "# Test\n",
    "\n",
    "# Evaluate "
   ]
  }
 ],
 "metadata": {
  "kernelspec": {
   "display_name": "Python 3",
   "language": "python",
   "name": "python3"
  }
 },
 "nbformat": 4,
 "nbformat_minor": 2
}
