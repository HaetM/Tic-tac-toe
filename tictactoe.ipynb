{
 "cells": [
  {
   "cell_type": "markdown",
   "metadata": {},
   "source": [
    "# Rules\n",
    "RULES: \n",
    "The object of Tic Tac Toe is to get three in a row. You play on a three by three game board. The first player is known as X and the second is O. Players alternate placing Xs and Os on the game board until either oppent has three in a row or all nine squares are filled.\n",
    "\n",
    "   # Plan # \n",
    "## Variable & Constants ##\n",
    "\n",
    "* Variables and constants and their types\n",
    "* Use of data structures and files - 2d array\n",
    "* User interface - how the user will interact with the program. The messages they will receive.\n",
    "The user will use mouse clicks \n",
    "\n",
    "# Varieable\n",
    "- There will be a winner and loser or drawn\n",
    "- Where the x/o is placed\n",
    "- board[3][3], \n",
    "- winner, a PlayerType. Initially, winner is set to PNONE. When someone wins, winner is set to the character of the winner.\n",
    "- x_turn, a boolean. x_turn is true if it is X's turn to play, and false if it is O's turn to play.\n",
    "- move_count, an integer. At first, move_count is 0. Every time a player makes a move, move_count increases by 1.\n",
    "- last_move\n",
    "# Constants \n",
    "Player \"x/o \" has won/lost\n",
    "Player \" x/o\" behinds \n",
    "\n",
    "# Algorithm \n",
    "\n",
    "# Test plan \n",
    "\n",
    "# Develop \n",
    "\n",
    "# Test\n",
    "\n",
    "# Evaluate "
   ]
  },
  {
   "cell_type": "code",
   "execution_count": null,
   "metadata": {},
   "outputs": [
    {
     "name": "stdout",
     "output_type": "stream",
     "text": [
      "7 8 9\n",
      "4 5 6\n",
      "1 2 3\n",
      "\n",
      "Player X pick your move\n"
     ]
    }
   ],
   "source": [
    "#DEVELOP\n",
    "\n",
    "def tic_tac_toe():\n",
    "    board = [None] + list(range(1, 10))\n",
    "    WIN_COMB = [\n",
    "       (1, 2, 3),\n",
    "       (4, 5, 6),\n",
    "       (7, 8, 9),\n",
    "       (1, 4, 7),\n",
    "       (2, 5, 8),\n",
    "       (3, 6, 9),\n",
    "       (1, 5, 9),\n",
    "       (3, 5, 7),\n",
    "    ]\n",
    "\n",
    "    def table():\n",
    "        print(board[7], board[8], board[9])\n",
    "        print(board[4], board[5], board[6])\n",
    "        print(board[1], board[2], board[3])\n",
    "        print()\n",
    "\n",
    "    def pick_number():\n",
    "        while True:\n",
    "            try:\n",
    "                a = int(input())\n",
    "                if a in board:\n",
    "                    return a\n",
    "                else:\n",
    "                    print(\"\\nInvalid move. Please try again\")\n",
    "            except ValueError:\n",
    "               print(\"\\nThat's not a number. Please try again\")\n",
    "\n",
    "    def is_game_over():\n",
    "        for a, b, c in WIN_COMB:\n",
    "            if board[a] == board[b] == board[c]:\n",
    "                print(\"Player {0} wins!\\n\".format(board[a]))\n",
    "                print(\"Congratulations!\\n\")\n",
    "                return True\n",
    "        if 9 == sum((pos == 'X' or pos == 'O') for pos in board):\n",
    "            print(\"Draw\")\n",
    "            return True\n",
    "\n",
    "    for player in 'XO' * 9:\n",
    "        table()\n",
    "        if is_game_over():\n",
    "            break\n",
    "        print(\"Player {0} pick your move\".format(player))\n",
    "        board[pick_number()] = player\n",
    "        print()\n",
    "\n",
    "while True:\n",
    "    tic_tac_toe()\n",
    "    if input(\"Play again (y/n)\\n\") != \"y\":\n",
    "        break"
   ]
  }
 ],
 "metadata": {
  "kernelspec": {
   "display_name": "Python 3",
   "language": "python",
   "name": "python3"
  },
  "language_info": {
   "codemirror_mode": {
    "name": "ipython",
    "version": 3
   },
   "file_extension": ".py",
   "mimetype": "text/x-python",
   "name": "python",
   "nbconvert_exporter": "python",
   "pygments_lexer": "ipython3",
   "version": "3.5.2"
  }
 },
 "nbformat": 4,
 "nbformat_minor": 2
}
